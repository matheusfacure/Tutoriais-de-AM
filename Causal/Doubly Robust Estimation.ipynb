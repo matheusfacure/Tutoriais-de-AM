{
 "cells": [
  {
   "cell_type": "code",
   "execution_count": 1,
   "metadata": {},
   "outputs": [],
   "source": [
    "import pandas as pd\n",
    "import numpy as np\n",
    "import seaborn as sns\n",
    "from matplotlib import pyplot as plt\n",
    "from toolz.curried import *"
   ]
  },
  {
   "cell_type": "markdown",
   "metadata": {},
   "source": [
    "# Gerando os Dados"
   ]
  },
  {
   "cell_type": "code",
   "execution_count": 2,
   "metadata": {},
   "outputs": [],
   "source": [
    "def make_confounded_data(N):\n",
    "\n",
    "    def get_severity(df):\n",
    "        return ((np.random.beta(1, 3, size=df.shape[0]) * (df[\"age\"] < 30)) +\n",
    "                (np.random.beta(3, 1.5, size=df.shape[0]) * (df[\"age\"] >= 30)))\n",
    "\n",
    "    def get_treatment(df):\n",
    "        return (.33 * df[\"sex\"] +\n",
    "                1.5 * df[\"severity\"] +\n",
    "                0.15 * np.random.normal(size=df.shape[0]) > 0.8).astype(float)\n",
    "\n",
    "    def get_recovery(df):\n",
    "        return np.random.poisson(np.exp(2 +\n",
    "                                        0.5 * df[\"sex\"] +\n",
    "                                        0.03 * df[\"age\"] +\n",
    "                                        df[\"severity\"] -\n",
    "                                        df[\"medication\"]))\n",
    "\n",
    "    np.random.seed(1111)\n",
    "    sexes = np.random.randint(0, 2, size=N)\n",
    "    ages = np.random.gamma(8, scale=4, size=N)\n",
    "    meds = np.random.randint(0, 2, size=N)\n",
    "\n",
    "    # dados com designação aleatória\n",
    "    df_rnd = pd.DataFrame(dict(sex=sexes, age=ages, medication=meds))\n",
    "    df_rnd['severity'] = get_severity(df_rnd)\n",
    "    df_rnd['recovery'] = get_recovery(df_rnd)\n",
    "\n",
    "    features = ['sex', 'age', 'severity', 'medication', 'recovery']\n",
    "    df_rnd = df_rnd[features]  # to enforce column order\n",
    "\n",
    "    # dados observacionais\n",
    "    df_obs = df_rnd.copy()\n",
    "    df_obs['medication'] = get_treatment(df_obs)\n",
    "    df_obs['recovery'] = get_recovery(df_obs)\n",
    "\n",
    "    # dados contrafactuais data\n",
    "    df_ctf = df_obs.copy()\n",
    "    df_ctf['medication'] = ((df_ctf['medication'] == 1) ^ 1).astype(float)\n",
    "    df_ctf['recovery'] = get_recovery(df_ctf)\n",
    "\n",
    "    return df_rnd, df_obs, df_ctf\n",
    "\n",
    "true_efect = np.exp(-1.0)"
   ]
  },
  {
   "cell_type": "code",
   "execution_count": 3,
   "metadata": {},
   "outputs": [],
   "source": [
    "df_rnd, df_obs, df_ctf = make_confounded_data(50000)\n",
    "_, test_obs, _ = make_confounded_data(10000)"
   ]
  },
  {
   "cell_type": "code",
   "execution_count": 4,
   "metadata": {},
   "outputs": [
    {
     "data": {
      "text/html": [
       "<div>\n",
       "<style scoped>\n",
       "    .dataframe tbody tr th:only-of-type {\n",
       "        vertical-align: middle;\n",
       "    }\n",
       "\n",
       "    .dataframe tbody tr th {\n",
       "        vertical-align: top;\n",
       "    }\n",
       "\n",
       "    .dataframe thead th {\n",
       "        text-align: right;\n",
       "    }\n",
       "</style>\n",
       "<table border=\"1\" class=\"dataframe\">\n",
       "  <thead>\n",
       "    <tr style=\"text-align: right;\">\n",
       "      <th></th>\n",
       "      <th>sex</th>\n",
       "      <th>age</th>\n",
       "      <th>severity</th>\n",
       "      <th>medication</th>\n",
       "      <th>recovery</th>\n",
       "    </tr>\n",
       "  </thead>\n",
       "  <tbody>\n",
       "    <tr>\n",
       "      <th>0</th>\n",
       "      <td>0</td>\n",
       "      <td>16.354103</td>\n",
       "      <td>0.047350</td>\n",
       "      <td>0.0</td>\n",
       "      <td>14</td>\n",
       "    </tr>\n",
       "    <tr>\n",
       "      <th>1</th>\n",
       "      <td>1</td>\n",
       "      <td>24.182983</td>\n",
       "      <td>0.099184</td>\n",
       "      <td>0.0</td>\n",
       "      <td>27</td>\n",
       "    </tr>\n",
       "    <tr>\n",
       "      <th>2</th>\n",
       "      <td>1</td>\n",
       "      <td>25.483159</td>\n",
       "      <td>0.349073</td>\n",
       "      <td>1.0</td>\n",
       "      <td>14</td>\n",
       "    </tr>\n",
       "    <tr>\n",
       "      <th>3</th>\n",
       "      <td>1</td>\n",
       "      <td>52.195765</td>\n",
       "      <td>0.536694</td>\n",
       "      <td>1.0</td>\n",
       "      <td>26</td>\n",
       "    </tr>\n",
       "    <tr>\n",
       "      <th>4</th>\n",
       "      <td>0</td>\n",
       "      <td>48.816918</td>\n",
       "      <td>0.631806</td>\n",
       "      <td>1.0</td>\n",
       "      <td>28</td>\n",
       "    </tr>\n",
       "  </tbody>\n",
       "</table>\n",
       "</div>"
      ],
      "text/plain": [
       "   sex        age  severity  medication  recovery\n",
       "0    0  16.354103  0.047350         0.0        14\n",
       "1    1  24.182983  0.099184         0.0        27\n",
       "2    1  25.483159  0.349073         1.0        14\n",
       "3    1  52.195765  0.536694         1.0        26\n",
       "4    0  48.816918  0.631806         1.0        28"
      ]
     },
     "execution_count": 4,
     "metadata": {},
     "output_type": "execute_result"
    }
   ],
   "source": [
    "df_obs.head()"
   ]
  },
  {
   "cell_type": "markdown",
   "metadata": {},
   "source": [
    "## Designação Aleatória"
   ]
  },
  {
   "cell_type": "code",
   "execution_count": 5,
   "metadata": {},
   "outputs": [
    {
     "data": {
      "image/png": "[encoded data removed]",
      "text/plain": [
       "<matplotlib.figure.Figure at 0x1a0e3f5dd8>"
      ]
     },
     "metadata": {},
     "output_type": "display_data"
    }
   ],
   "source": [
    "sns.heatmap(df_rnd.corr())\n",
    "plt.show()"
   ]
  },
  {
   "cell_type": "markdown",
   "metadata": {},
   "source": [
    "## Designação com Confusão"
   ]
  },
  {
   "cell_type": "code",
   "execution_count": 6,
   "metadata": {},
   "outputs": [
    {
     "data": {
      "image/png": "[encoded data removed]",
      "text/plain": [
       "<matplotlib.figure.Figure at 0x1a0e694e80>"
      ]
     },
     "metadata": {},
     "output_type": "display_data"
    }
   ],
   "source": [
    "sns.heatmap(df_obs.corr())\n",
    "plt.show()"
   ]
  },
  {
   "cell_type": "markdown",
   "metadata": {},
   "source": [
    "# Modelo Sem Contrafactual"
   ]
  },
  {
   "cell_type": "code",
   "execution_count": 7,
   "metadata": {},
   "outputs": [],
   "source": [
    "from sklearn.ensemble import RandomForestRegressor\n",
    "\n",
    "var_x = [\"sex\", \"age\", \"severity\"]\n",
    "var_t = [\"medication\"]\n",
    "resp_y = \"recovery\""
   ]
  },
  {
   "cell_type": "code",
   "execution_count": 8,
   "metadata": {},
   "outputs": [
    {
     "name": "stdout",
     "output_type": "stream",
     "text": [
      "Train Score:  0.6842113937428888\n",
      "Test Score:  0.6756330521689281\n"
     ]
    }
   ],
   "source": [
    "regr = RandomForestRegressor(n_estimators=100, max_depth=4, min_samples_leaf=100)\n",
    "regr.fit(df_obs[var_x + var_t], df_obs[resp_y])\n",
    "\n",
    "print(\"Train Score: \", regr.score(df_obs[var_x + var_t], df_obs[resp_y]))\n",
    "print(\"Test Score: \", regr.score(test_obs[var_x + var_t], test_obs[resp_y]))"
   ]
  },
  {
   "cell_type": "markdown",
   "metadata": {},
   "source": [
    "### Prevendo o Efeito Causal"
   ]
  },
  {
   "cell_type": "code",
   "execution_count": 9,
   "metadata": {},
   "outputs": [
    {
     "name": "stdout",
     "output_type": "stream",
     "text": [
      "Efeito Causal Previsto:,  0.6286014281347522\n"
     ]
    }
   ],
   "source": [
    "X_neg = df_obs.copy()\n",
    "X_pos = df_obs.copy()\n",
    "\n",
    "X_neg[\"medication\"] = 0\n",
    "X_pos[\"medication\"] = 1\n",
    "\n",
    "preds = regr.predict(X_pos[var_x + var_t]) / regr.predict(X_neg[var_x + var_t])\n",
    "print(\"Efeito Causal Previsto:, \", preds.mean())"
   ]
  },
  {
   "cell_type": "code",
   "execution_count": 10,
   "metadata": {},
   "outputs": [
    {
     "data": {
      "image/png": "[encoded data removed]",
      "text/plain": [
       "<matplotlib.figure.Figure at 0x1a0f452358>"
      ]
     },
     "metadata": {},
     "output_type": "display_data"
    }
   ],
   "source": [
    "ax = sns.distplot(preds)\n",
    "plt.axvline(np.mean(preds), label='Previsto', lw=5)\n",
    "plt.axvline(true_efect, color='r', label='Real')\n",
    "ax.set_xlabel('Efeito Causal')\n",
    "plt.legend()\n",
    "plt.show()"
   ]
  },
  {
   "cell_type": "code",
   "execution_count": 11,
   "metadata": {},
   "outputs": [
    {
     "name": "stdout",
     "output_type": "stream",
     "text": [
      "Score Contrafactual:  0.5286251438622127\n"
     ]
    }
   ],
   "source": [
    "print(\"Score Contrafactual: \", regr.score(df_ctf[var_x + var_t], df_ctf[resp_y]))"
   ]
  },
  {
   "cell_type": "markdown",
   "metadata": {},
   "source": [
    "### Em Dados Aleatórios"
   ]
  },
  {
   "cell_type": "code",
   "execution_count": 12,
   "metadata": {},
   "outputs": [
    {
     "data": {
      "text/plain": [
       "0.810008266401398"
      ]
     },
     "execution_count": 12,
     "metadata": {},
     "output_type": "execute_result"
    }
   ],
   "source": [
    "regr = RandomForestRegressor(n_estimators=100, max_depth=4, min_samples_leaf=100)\n",
    "regr.fit(df_rnd[var_x + var_t], df_rnd[resp_y])\n",
    "regr.score(df_rnd[var_x + var_t], df_rnd[resp_y])"
   ]
  },
  {
   "cell_type": "code",
   "execution_count": 13,
   "metadata": {},
   "outputs": [
    {
     "name": "stdout",
     "output_type": "stream",
     "text": [
      "Efeito Causal Previsto:,  0.37125007321366865\n"
     ]
    }
   ],
   "source": [
    "X_neg = df_obs.copy()\n",
    "X_pos = df_obs.copy()\n",
    "\n",
    "X_neg[\"medication\"] = 0\n",
    "X_pos[\"medication\"] = 1\n",
    "\n",
    "preds = regr.predict(X_pos[var_x + var_t]) / regr.predict(X_neg[var_x + var_t])\n",
    "print(\"Efeito Causal Previsto:, \", preds.mean())"
   ]
  },
  {
   "cell_type": "code",
   "execution_count": 14,
   "metadata": {},
   "outputs": [
    {
     "data": {
      "image/png": "[encoded data removed]",
      "text/plain": [
       "<matplotlib.figure.Figure at 0x1a0f810860>"
      ]
     },
     "metadata": {},
     "output_type": "display_data"
    }
   ],
   "source": [
    "ax = sns.distplot(preds)\n",
    "plt.axvline(np.mean(preds), label='Previsto', lw=5)\n",
    "plt.axvline(true_efect, color='r', label='Real')\n",
    "ax.set_xlabel('Efeito Causal')\n",
    "plt.legend()\n",
    "plt.show()"
   ]
  },
  {
   "cell_type": "markdown",
   "metadata": {},
   "source": [
    "# Modelo Contrafactual"
   ]
  },
  {
   "cell_type": "code",
   "execution_count": 15,
   "metadata": {},
   "outputs": [
    {
     "name": "stdout",
     "output_type": "stream",
     "text": [
      "Train Score:  0.9215\n",
      "Train Score:  0.9254\n"
     ]
    }
   ],
   "source": [
    "from sklearn.ensemble import RandomForestClassifier\n",
    "from sklearn.calibration import CalibratedClassifierCV\n",
    "\n",
    "ps_model = CalibratedClassifierCV(RandomForestClassifier(n_estimators=100, max_depth=4, min_samples_leaf=100))\n",
    "ps_model.fit(df_obs[var_x], df_obs[var_t].squeeze())\n",
    "\n",
    "print(\"Train Score: \", ps_model.score(df_obs[var_x], df_obs[var_t].squeeze()))\n",
    "print(\"Train Score: \", ps_model.score(test_obs[var_x], test_obs[var_t].squeeze()))"
   ]
  },
  {
   "cell_type": "markdown",
   "metadata": {},
   "source": [
    "## Checando Positividade"
   ]
  },
  {
   "cell_type": "code",
   "execution_count": 16,
   "metadata": {},
   "outputs": [
    {
     "data": {
      "image/png": "[encoded data removed]",
      "text/plain": [
       "<matplotlib.figure.Figure at 0x1a1102e7f0>"
      ]
     },
     "metadata": {},
     "output_type": "display_data"
    }
   ],
   "source": [
    "ps_score = pd.DataFrame(ps_model.predict_proba(df_obs[var_x]))\n",
    "ps_data = df_obs.assign(propensity_score = ps_score[0])\n",
    "\n",
    "ax = sns.distplot(ps_data.query(\"medication==1.0\")[\"propensity_score\"], label=\"tratados\")\n",
    "sns.distplot(ps_data.query(\"medication==0.0\")[\"propensity_score\"], label=\"não tratados\")\n",
    "ax.set_xlabel('propensity socore')\n",
    "plt.legend()\n",
    "plt.show()"
   ]
  },
  {
   "cell_type": "code",
   "execution_count": 17,
   "metadata": {},
   "outputs": [
    {
     "data": {
      "text/html": [
       "<div>\n",
       "<style scoped>\n",
       "    .dataframe tbody tr th:only-of-type {\n",
       "        vertical-align: middle;\n",
       "    }\n",
       "\n",
       "    .dataframe tbody tr th {\n",
       "        vertical-align: top;\n",
       "    }\n",
       "\n",
       "    .dataframe thead th {\n",
       "        text-align: right;\n",
       "    }\n",
       "</style>\n",
       "<table border=\"1\" class=\"dataframe\">\n",
       "  <thead>\n",
       "    <tr style=\"text-align: right;\">\n",
       "      <th></th>\n",
       "      <th>sex</th>\n",
       "      <th>age</th>\n",
       "      <th>severity</th>\n",
       "      <th>medication</th>\n",
       "      <th>recovery</th>\n",
       "      <th>weight</th>\n",
       "    </tr>\n",
       "  </thead>\n",
       "  <tbody>\n",
       "    <tr>\n",
       "      <th>0</th>\n",
       "      <td>0</td>\n",
       "      <td>16.354103</td>\n",
       "      <td>0.047350</td>\n",
       "      <td>0.0</td>\n",
       "      <td>14</td>\n",
       "      <td>1.022779</td>\n",
       "    </tr>\n",
       "    <tr>\n",
       "      <th>1</th>\n",
       "      <td>1</td>\n",
       "      <td>24.182983</td>\n",
       "      <td>0.099184</td>\n",
       "      <td>0.0</td>\n",
       "      <td>27</td>\n",
       "      <td>1.037767</td>\n",
       "    </tr>\n",
       "    <tr>\n",
       "      <th>2</th>\n",
       "      <td>1</td>\n",
       "      <td>25.483159</td>\n",
       "      <td>0.349073</td>\n",
       "      <td>1.0</td>\n",
       "      <td>14</td>\n",
       "      <td>1.640318</td>\n",
       "    </tr>\n",
       "    <tr>\n",
       "      <th>3</th>\n",
       "      <td>1</td>\n",
       "      <td>52.195765</td>\n",
       "      <td>0.536694</td>\n",
       "      <td>1.0</td>\n",
       "      <td>26</td>\n",
       "      <td>1.028249</td>\n",
       "    </tr>\n",
       "    <tr>\n",
       "      <th>4</th>\n",
       "      <td>0</td>\n",
       "      <td>48.816918</td>\n",
       "      <td>0.631806</td>\n",
       "      <td>1.0</td>\n",
       "      <td>28</td>\n",
       "      <td>1.053678</td>\n",
       "    </tr>\n",
       "  </tbody>\n",
       "</table>\n",
       "</div>"
      ],
      "text/plain": [
       "   sex        age  severity  medication  recovery    weight\n",
       "0    0  16.354103  0.047350         0.0        14  1.022779\n",
       "1    1  24.182983  0.099184         0.0        27  1.037767\n",
       "2    1  25.483159  0.349073         1.0        14  1.640318\n",
       "3    1  52.195765  0.536694         1.0        26  1.028249\n",
       "4    0  48.816918  0.631806         1.0        28  1.053678"
      ]
     },
     "execution_count": 17,
     "metadata": {},
     "output_type": "execute_result"
    }
   ],
   "source": [
    "weight_data = df_obs.assign(weight = 1. / ps_score.lookup(np.arange(ps_score.shape[0]),\n",
    "                                                          df_obs[var_t].astype(int).values.squeeze()))\n",
    "\n",
    "weight_data.head()"
   ]
  },
  {
   "cell_type": "code",
   "execution_count": 18,
   "metadata": {},
   "outputs": [
    {
     "name": "stdout",
     "output_type": "stream",
     "text": [
      "Train Score:  0.8404561549023044\n",
      "Train Score:  0.8313566196829696\n"
     ]
    }
   ],
   "source": [
    "struc_model = RandomForestRegressor(n_estimators=100, max_depth=7, min_samples_leaf=10)\n",
    "struc_model.fit(weight_data[var_x + var_t],\n",
    "                weight_data[resp_y].squeeze(),\n",
    "                sample_weight=weight_data[\"weight\"])\n",
    "\n",
    "print(\"Train Score: \", struc_model.score(weight_data[var_x + var_t], weight_data[resp_y].squeeze()))\n",
    "print(\"Train Score: \", struc_model.score(test_obs[var_x + var_t], test_obs[resp_y].squeeze()))"
   ]
  },
  {
   "cell_type": "markdown",
   "metadata": {},
   "source": [
    "## Prevendo o Efeito Causal"
   ]
  },
  {
   "cell_type": "code",
   "execution_count": 19,
   "metadata": {},
   "outputs": [
    {
     "name": "stdout",
     "output_type": "stream",
     "text": [
      "Efeito Causal Previsto:,  0.428171125385169\n"
     ]
    }
   ],
   "source": [
    "X_neg = df_obs.copy()\n",
    "X_pos = df_obs.copy()\n",
    "\n",
    "X_neg[\"medication\"] = 0\n",
    "X_pos[\"medication\"] = 1\n",
    "\n",
    "preds = struc_model.predict(X_pos[var_x + var_t]) / struc_model.predict(X_neg[var_x + var_t])\n",
    "print(\"Efeito Causal Previsto:, \", preds.mean())"
   ]
  },
  {
   "cell_type": "code",
   "execution_count": 20,
   "metadata": {},
   "outputs": [
    {
     "data": {
      "image/png": "[encoded data removed]",
      "text/plain": [
       "<matplotlib.figure.Figure at 0x1a10cac128>"
      ]
     },
     "metadata": {},
     "output_type": "display_data"
    }
   ],
   "source": [
    "ax = sns.distplot(preds)\n",
    "plt.axvline(np.mean(preds), label='Previsto', lw=5)\n",
    "plt.axvline(true_efect, color='r', label='Real')\n",
    "ax.set_xlabel('Efeito Causal')\n",
    "plt.legend()\n",
    "plt.show()"
   ]
  },
  {
   "cell_type": "code",
   "execution_count": 21,
   "metadata": {},
   "outputs": [
    {
     "name": "stdout",
     "output_type": "stream",
     "text": [
      "Score Contrafactual:  0.8046587777963254\n"
     ]
    }
   ],
   "source": [
    "print(\"Score Contrafactual: \", struc_model.score(df_ctf[var_x + var_t], df_ctf[resp_y]))"
   ]
  },
  {
   "cell_type": "code",
   "execution_count": null,
   "metadata": {},
   "outputs": [],
   "source": []
  }
 ],
 "metadata": {
  "kernelspec": {
   "display_name": "Python 3",
   "language": "python",
   "name": "python3"
  },
  "language_info": {
   "codemirror_mode": {
    "name": "ipython",
    "version": 3
   },
   "file_extension": ".py",
   "mimetype": "text/x-python",
   "name": "python",
   "nbconvert_exporter": "python",
   "pygments_lexer": "ipython3",
   "version": "3.6.4"
  }
 },
 "nbformat": 4,
 "nbformat_minor": 2
}
